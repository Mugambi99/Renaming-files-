{
 "cells": [
  {
   "cell_type": "code",
   "execution_count": 1,
   "id": "70dce468",
   "metadata": {},
   "outputs": [],
   "source": [
    "# In this project, you are to build a python script to rename files in the dogs folder (part of this repository) to ‘dogs’ plus a number such that filenames will appear as follows: dog01, dog02, dog03, …, dog15. Note that you should use the os module to implement this bulk file renamer. Find the documentation here.\n",
    "\n",
    "# On completion, you can now use this script to rename some of those numerous files on your desktop that you have been struggling to rename in bulk."
   ]
  },
  {
   "cell_type": "code",
   "execution_count": 2,
   "id": "107fbe9b",
   "metadata": {},
   "outputs": [],
   "source": [
    "import os"
   ]
  },
  {
   "cell_type": "code",
   "execution_count": 3,
   "id": "7d8c9f40",
   "metadata": {},
   "outputs": [],
   "source": [
    "# os.rename(src, dst)\n",
    "# src: Source is the name of the file or directory. It should must already exist.\n",
    "\n",
    "# dst: Destination is the new name of the file or directory you want to change."
   ]
  },
  {
   "cell_type": "code",
   "execution_count": 4,
   "id": "0d314ade",
   "metadata": {},
   "outputs": [],
   "source": [
    "def renaming_files(directory, newname):\n",
    "    files =os.listdir(directory)\n",
    "    counter=0\n",
    "    for file in files:\n",
    "        filetype= file.split(\".\")[-1]\n",
    "        os.rename(directory+ \"/\" +file, directory+ \"/\"+ newname+ str(counter)+ \".\"+ filetype)\n",
    "        print(\"Renaming \" +file + \" to \"+ newname+ str(counter)+ \".\"+ filetype)\n",
    "        counter+=1"
   ]
  },
  {
   "cell_type": "code",
   "execution_count": 5,
   "id": "b0c0cbc9",
   "metadata": {},
   "outputs": [
    {
     "name": "stdout",
     "output_type": "stream",
     "text": [
      "Renaming datascience0.docx to success00.docx\n",
      "Renaming datascience1.docx to success01.docx\n",
      "Renaming success00.txt to success02.txt\n",
      "Renaming success01.xlsx to success03.xlsx\n",
      "Renaming success02.rtf to success04.rtf\n"
     ]
    }
   ],
   "source": [
    "renaming_files(r\"C:\\Users\\HP\\Desktop\\Renaming Python\", \"success0\")"
   ]
  },
  {
   "cell_type": "markdown",
   "id": "b40057b2",
   "metadata": {},
   "source": [
    "### Endswith"
   ]
  },
  {
   "cell_type": "code",
   "execution_count": 21,
   "id": "8a5146e8",
   "metadata": {},
   "outputs": [],
   "source": [
    "def renaming_files(directory, ending, newname):\n",
    "    files =os.listdir(directory)\n",
    "    counter=0\n",
    "    for file in files:\n",
    "        if file.endswith(ending):\n",
    "            filetype= file.split(\".\")[-1]\n",
    "            os.rename(directory+ \"/\" +file, directory+ \"/\"+ newname+ str(counter)+ \".\"+ filetype)\n",
    "            print(\"Renaming \" +file + \" to \"+ newname+ str(counter)+ \".\"+ filetype)\n",
    "            counter+=1"
   ]
  },
  {
   "cell_type": "code",
   "execution_count": 22,
   "id": "c17cda76",
   "metadata": {},
   "outputs": [
    {
     "name": "stdout",
     "output_type": "stream",
     "text": [
      "Renaming success03.docx to datascience0.docx\n",
      "Renaming success04.docx to datascience1.docx\n"
     ]
    }
   ],
   "source": [
    "renaming_files(r\"C:\\Users\\HP\\Desktop\\Renaming Python\",\"docx\" ,\"datascience\")"
   ]
  },
  {
   "cell_type": "code",
   "execution_count": null,
   "id": "449dfe45",
   "metadata": {},
   "outputs": [],
   "source": []
  },
  {
   "cell_type": "code",
   "execution_count": 20,
   "id": "8da85f59",
   "metadata": {},
   "outputs": [
    {
     "name": "stdout",
     "output_type": "stream",
     "text": [
      "Reinitialized existing Git repository in C:/Users/HP/ZINDUA/PROJECTS/.git/\n"
     ]
    },
    {
     "name": "stderr",
     "output_type": "stream",
     "text": [
      "fatal: pathspec 'renaming' did not match any files\n"
     ]
    },
    {
     "name": "stdout",
     "output_type": "stream",
     "text": [
      "On branch main\n",
      "Your branch is up to date with 'origin/main'.\n",
      "\n",
      "Changes not staged for commit:\n",
      "  (use \"git add <file>...\" to update what will be committed)\n",
      "  (use \"git restore <file>...\" to discard changes in working directory)\n",
      "  (commit or discard the untracked or modified content in submodules)\n",
      "\tmodified:   Snakes-and-ladders-GUI (modified content)\n",
      "\tmodified:   Youtube Downloader (modified content)\n",
      "\n",
      "no changes added to commit (use \"git add\" and/or \"git commit -a\")\n"
     ]
    },
    {
     "name": "stderr",
     "output_type": "stream",
     "text": [
      "error: remote origin already exists.\n"
     ]
    },
    {
     "name": "stdout",
     "output_type": "stream",
     "text": [
      "branch 'main' set up to track 'origin/main'."
     ]
    },
    {
     "name": "stderr",
     "output_type": "stream",
     "text": [
      "Everything up-to-date\n"
     ]
    },
    {
     "name": "stdout",
     "output_type": "stream",
     "text": [
      "\n"
     ]
    }
   ],
   "source": [
    "!git init\n",
    "!git add renaming file.ipynb\n",
    "!git commit -m \"Renaming Files in your computer\"\n",
    "!git branch -M main\n",
    "!git remote add origin https://github.com/Mugambi99/Renaming-files-.git\n",
    "!git push -u origin main"
   ]
  },
  {
   "cell_type": "code",
   "execution_count": null,
   "id": "df461aa6",
   "metadata": {},
   "outputs": [],
   "source": []
  }
 ],
 "metadata": {
  "kernelspec": {
   "display_name": "Python 3 (ipykernel)",
   "language": "python",
   "name": "python3"
  },
  "language_info": {
   "codemirror_mode": {
    "name": "ipython",
    "version": 3
   },
   "file_extension": ".py",
   "mimetype": "text/x-python",
   "name": "python",
   "nbconvert_exporter": "python",
   "pygments_lexer": "ipython3",
   "version": "3.9.7"
  }
 },
 "nbformat": 4,
 "nbformat_minor": 5
}
